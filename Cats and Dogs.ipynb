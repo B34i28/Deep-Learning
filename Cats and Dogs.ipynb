{
 "cells": [
  {
   "cell_type": "code",
   "execution_count": 1,
   "id": "89237bc0",
   "metadata": {},
   "outputs": [],
   "source": [
    "import os, shutil"
   ]
  },
  {
   "cell_type": "code",
   "execution_count": 2,
   "id": "165df197",
   "metadata": {},
   "outputs": [],
   "source": [
    "original_dataset_dir = r'D:\\Piaic\\AI\\Querter 3\\dogs-vs-cats\\train'"
   ]
  },
  {
   "cell_type": "code",
   "execution_count": 3,
   "id": "ac56f249",
   "metadata": {},
   "outputs": [],
   "source": [
    "base_dir = 'D:\\Piaic\\AI\\Querter 3\\dogs-vs-cats\\cats n dogs'\n",
    "os.mkdir(base_dir)"
   ]
  },
  {
   "cell_type": "code",
   "execution_count": 4,
   "id": "f7c134f6",
   "metadata": {},
   "outputs": [],
   "source": [
    "train_dir = os.path.join(base_dir, 'train')\n",
    "os.mkdir(train_dir)\n",
    "\n",
    "validation_dir = os.path.join(base_dir, 'validation')\n",
    "os.mkdir(validation_dir)\n",
    "\n",
    "test_dir = os.path.join(base_dir, 'test')\n",
    "os.mkdir(test_dir)"
   ]
  },
  {
   "cell_type": "code",
   "execution_count": 5,
   "id": "4849d463",
   "metadata": {},
   "outputs": [],
   "source": [
    "train_cats_dir = os.path.join(train_dir, 'cats')\n",
    "os.mkdir(train_cats_dir)\n",
    "\n",
    "train_dogs_dir = os.path.join(train_dir, 'dogs')\n",
    "os.mkdir(train_dogs_dir)"
   ]
  },
  {
   "cell_type": "code",
   "execution_count": 6,
   "id": "49ce0ad8",
   "metadata": {},
   "outputs": [],
   "source": [
    "test_cats_dir = os.path.join(test_dir, 'cats')\n",
    "os.mkdir(test_cats_dir)\n",
    "\n",
    "test_dogs_dir = os.path.join(test_dir, 'dogs')\n",
    "os.mkdir(test_dogs_dir)"
   ]
  },
  {
   "cell_type": "code",
   "execution_count": 7,
   "id": "5c1e7a11",
   "metadata": {},
   "outputs": [],
   "source": [
    "validation_cats_dir = os.path.join(validation_dir, 'cats')\n",
    "os.mkdir(validation_cats_dir)\n",
    "\n",
    "validation_dogs_dir = os.path.join(validation_dir, 'dogs')\n",
    "os.mkdir(validation_dogs_dir)"
   ]
  },
  {
   "cell_type": "code",
   "execution_count": 8,
   "id": "4a07a865",
   "metadata": {},
   "outputs": [],
   "source": [
    "fnames = ['cat.{}.jpg'.format(i) for i in range(1000)]\n",
    "\n",
    "# fnames = [f'cat.{i}.jpg' for i in range(1000)]\n",
    "\n",
    "for fname in fnames:\n",
    "    src = os.path.join(original_dataset_dir, fname)\n",
    "    \n",
    "    dst = os.path.join(train_cats_dir, fname)\n",
    "    \n",
    "    shutil.copyfile(src, dst)"
   ]
  },
  {
   "cell_type": "code",
   "execution_count": 9,
   "id": "71ffbb99",
   "metadata": {},
   "outputs": [],
   "source": [
    "fnames = ['cat.{}.jpg'.format(i) for i in range (1000, 1500)]\n",
    "for fname in fnames:\n",
    "    src = os.path.join(original_dataset_dir, fname)\n",
    "    dst = os.path.join(validation_cats_dir , fname)\n",
    "    shutil.copyfile(src, dst)"
   ]
  },
  {
   "cell_type": "code",
   "execution_count": 10,
   "id": "fc90adde",
   "metadata": {},
   "outputs": [],
   "source": [
    "fnames = ['cat.{}.jpg'.format(i) for i in range (1500, 2000)]\n",
    "for fname in fnames:\n",
    "    src = os.path.join(original_dataset_dir, fname)\n",
    "    dst = os.path.join(test_cats_dir, fname)\n",
    "    shutil.copyfile(src ,dst)"
   ]
  },
  {
   "cell_type": "code",
   "execution_count": 11,
   "id": "12375d62",
   "metadata": {},
   "outputs": [],
   "source": [
    "fnames = ['dog.{}.jpg'.format(i) for i in range (1000)]\n",
    "for fname in fnames:\n",
    "    src = os.path.join(original_dataset_dir, fname)\n",
    "    dst = os.path.join(train_dogs_dir, fname)\n",
    "    shutil.copyfile(src, dst)"
   ]
  },
  {
   "cell_type": "code",
   "execution_count": 12,
   "id": "c9818054",
   "metadata": {},
   "outputs": [],
   "source": [
    "fnames = ['dog.{}.jpg'.format(i) for i in range (1000, 1500)]\n",
    "for fname in fnames:\n",
    "    src = os.path.join(original_dataset_dir, fname)\n",
    "    dst = os.path.join(validation_dogs_dir, fname)\n",
    "    shutil.copyfile(src, dst)"
   ]
  },
  {
   "cell_type": "code",
   "execution_count": 13,
   "id": "56fc4d01",
   "metadata": {},
   "outputs": [],
   "source": [
    "fnames = ['dog.{}.jpg'.format(i) for i in range (1500, 2000)]\n",
    "for fname in fnames:\n",
    "    src = os.path.join(original_dataset_dir, fname)\n",
    "    dst = os.path.join(test_dogs_dir, fname)\n",
    "    shutil.copyfile(src, dst)"
   ]
  },
  {
   "cell_type": "code",
   "execution_count": 14,
   "id": "d7945000",
   "metadata": {},
   "outputs": [],
   "source": [
    "from tensorflow.keras import layers\n",
    "from tensorflow.keras import models\n",
    "\n",
    "model = models.Sequential()\n",
    "\n",
    "model.add(layers.Conv2D(32,(3,3), activation=\"relu\", input_shape=(150,150,3)))\n",
    "model.add(layers.MaxPooling2D((2,2)))\n",
    "\n",
    "model.add(layers.Conv2D(64,(3,3), activation=\"relu\" ))\n",
    "model.add(layers.MaxPooling2D((2,2)))\n",
    "\n",
    "model.add(layers.Conv2D(128, (3,3), activation=\"relu\"))\n",
    "model.add(layers.MaxPooling2D((2,2)))\n",
    "\n",
    "model.add(layers.Conv2D(128, (3,3), activation=\"relu\"))\n",
    "model.add(layers.MaxPooling2D((2,2)))\n",
    "\n",
    "model.add(layers.Flatten())\n",
    "model.add(layers.Dense(512, activation=\"relu\"))\n",
    "model.add(layers.Dense(1 , activation=\"sigmoid\"))"
   ]
  },
  {
   "cell_type": "code",
   "execution_count": 15,
   "id": "dba2a449",
   "metadata": {},
   "outputs": [
    {
     "name": "stdout",
     "output_type": "stream",
     "text": [
      "Model: \"sequential\"\n",
      "_________________________________________________________________\n",
      " Layer (type)                Output Shape              Param #   \n",
      "=================================================================\n",
      " conv2d (Conv2D)             (None, 148, 148, 32)      896       \n",
      "                                                                 \n",
      " max_pooling2d (MaxPooling2D  (None, 74, 74, 32)       0         \n",
      " )                                                               \n",
      "                                                                 \n",
      " conv2d_1 (Conv2D)           (None, 72, 72, 64)        18496     \n",
      "                                                                 \n",
      " max_pooling2d_1 (MaxPooling  (None, 36, 36, 64)       0         \n",
      " 2D)                                                             \n",
      "                                                                 \n",
      " conv2d_2 (Conv2D)           (None, 34, 34, 128)       73856     \n",
      "                                                                 \n",
      " max_pooling2d_2 (MaxPooling  (None, 17, 17, 128)      0         \n",
      " 2D)                                                             \n",
      "                                                                 \n",
      " conv2d_3 (Conv2D)           (None, 15, 15, 128)       147584    \n",
      "                                                                 \n",
      " max_pooling2d_3 (MaxPooling  (None, 7, 7, 128)        0         \n",
      " 2D)                                                             \n",
      "                                                                 \n",
      " flatten (Flatten)           (None, 6272)              0         \n",
      "                                                                 \n",
      " dense (Dense)               (None, 512)               3211776   \n",
      "                                                                 \n",
      " dense_1 (Dense)             (None, 1)                 513       \n",
      "                                                                 \n",
      "=================================================================\n",
      "Total params: 3,453,121\n",
      "Trainable params: 3,453,121\n",
      "Non-trainable params: 0\n",
      "_________________________________________________________________\n"
     ]
    }
   ],
   "source": [
    "model.summary()"
   ]
  },
  {
   "cell_type": "code",
   "execution_count": 22,
   "id": "67a5a1a7",
   "metadata": {},
   "outputs": [],
   "source": [
    "from tensorflow.keras import optimizers\n",
    "model.compile(loss=\"binary_crossentropy\", optimizer=optimizers.RMSprop(learning_rate=1e-4),metrics=['acc'])"
   ]
  },
  {
   "cell_type": "code",
   "execution_count": 24,
   "id": "9a1a1727",
   "metadata": {},
   "outputs": [
    {
     "name": "stdout",
     "output_type": "stream",
     "text": [
      "Found 2000 images belonging to 2 classes.\n",
      "Found 1000 images belonging to 2 classes.\n"
     ]
    }
   ],
   "source": [
    "from tensorflow.keras.preprocessing.image import ImageDataGenerator\n",
    "train_datagen = ImageDataGenerator(rescale= 1./255)\n",
    "test_datagen = ImageDataGenerator(rescale= 1./255)\n",
    "train_generator = train_datagen.flow_from_directory(train_dir,target_size=(150,150),batch_size=20,class_mode='binary')\n",
    "validation_generator = test_datagen.flow_from_directory(validation_dir,target_size=(150,150),batch_size=20,class_mode ='binary')"
   ]
  },
  {
   "cell_type": "code",
   "execution_count": 25,
   "id": "806cd9bc",
   "metadata": {},
   "outputs": [
    {
     "name": "stderr",
     "output_type": "stream",
     "text": [
      "C:\\Users\\Win\\AppData\\Local\\Temp\\ipykernel_7368\\579704996.py:1: UserWarning: `Model.fit_generator` is deprecated and will be removed in a future version. Please use `Model.fit`, which supports generators.\n",
      "  history = model.fit_generator(train_generator,steps_per_epoch=100,epochs=30,validation_data=validation_generator,validation_steps=50)\n"
     ]
    },
    {
     "name": "stdout",
     "output_type": "stream",
     "text": [
      "Epoch 1/30\n",
      "100/100 [==============================] - 56s 545ms/step - loss: 0.6938 - acc: 0.5140 - val_loss: 0.6866 - val_acc: 0.5020\n",
      "Epoch 2/30\n",
      "100/100 [==============================] - 47s 473ms/step - loss: 0.6798 - acc: 0.5765 - val_loss: 0.6800 - val_acc: 0.5250\n",
      "Epoch 3/30\n",
      "100/100 [==============================] - 46s 454ms/step - loss: 0.6626 - acc: 0.6060 - val_loss: 0.6934 - val_acc: 0.5470\n",
      "Epoch 4/30\n",
      "100/100 [==============================] - 45s 451ms/step - loss: 0.6465 - acc: 0.6225 - val_loss: 0.6850 - val_acc: 0.5550\n",
      "Epoch 5/30\n",
      "100/100 [==============================] - 47s 467ms/step - loss: 0.6278 - acc: 0.6565 - val_loss: 0.6329 - val_acc: 0.6350\n",
      "Epoch 6/30\n",
      "100/100 [==============================] - 46s 461ms/step - loss: 0.5984 - acc: 0.6820 - val_loss: 0.6304 - val_acc: 0.6250\n",
      "Epoch 7/30\n",
      "100/100 [==============================] - 46s 456ms/step - loss: 0.5760 - acc: 0.7035 - val_loss: 0.6091 - val_acc: 0.6490\n",
      "Epoch 8/30\n",
      "100/100 [==============================] - 45s 451ms/step - loss: 0.5493 - acc: 0.7210 - val_loss: 0.6172 - val_acc: 0.6660\n",
      "Epoch 9/30\n",
      "100/100 [==============================] - 46s 458ms/step - loss: 0.5243 - acc: 0.7375 - val_loss: 0.6273 - val_acc: 0.6500\n",
      "Epoch 10/30\n",
      "100/100 [==============================] - 46s 458ms/step - loss: 0.5034 - acc: 0.7470 - val_loss: 0.6259 - val_acc: 0.6540\n",
      "Epoch 11/30\n",
      "100/100 [==============================] - 47s 470ms/step - loss: 0.4776 - acc: 0.7770 - val_loss: 0.6093 - val_acc: 0.6670\n",
      "Epoch 12/30\n",
      "100/100 [==============================] - 47s 473ms/step - loss: 0.4573 - acc: 0.7775 - val_loss: 0.5591 - val_acc: 0.7180\n",
      "Epoch 13/30\n",
      "100/100 [==============================] - 48s 475ms/step - loss: 0.4300 - acc: 0.7965 - val_loss: 0.5785 - val_acc: 0.6990\n",
      "Epoch 14/30\n",
      "100/100 [==============================] - 45s 453ms/step - loss: 0.4139 - acc: 0.8100 - val_loss: 0.6047 - val_acc: 0.7020\n",
      "Epoch 15/30\n",
      "100/100 [==============================] - 45s 455ms/step - loss: 0.3850 - acc: 0.8310 - val_loss: 0.5739 - val_acc: 0.7140\n",
      "Epoch 16/30\n",
      "100/100 [==============================] - 46s 456ms/step - loss: 0.3660 - acc: 0.8370 - val_loss: 0.5836 - val_acc: 0.7330\n",
      "Epoch 17/30\n",
      "100/100 [==============================] - 46s 458ms/step - loss: 0.3466 - acc: 0.8535 - val_loss: 0.6126 - val_acc: 0.7080\n",
      "Epoch 18/30\n",
      "100/100 [==============================] - 47s 471ms/step - loss: 0.3225 - acc: 0.8570 - val_loss: 0.5838 - val_acc: 0.7240\n",
      "Epoch 19/30\n",
      "100/100 [==============================] - 49s 485ms/step - loss: 0.2943 - acc: 0.8800 - val_loss: 0.5934 - val_acc: 0.7290\n",
      "Epoch 20/30\n",
      "100/100 [==============================] - 47s 474ms/step - loss: 0.2746 - acc: 0.8845 - val_loss: 0.6131 - val_acc: 0.7160\n",
      "Epoch 21/30\n",
      "100/100 [==============================] - 49s 492ms/step - loss: 0.2575 - acc: 0.8950 - val_loss: 0.6068 - val_acc: 0.7300\n",
      "Epoch 22/30\n",
      "100/100 [==============================] - 46s 455ms/step - loss: 0.2343 - acc: 0.9035 - val_loss: 0.6452 - val_acc: 0.7260\n",
      "Epoch 23/30\n",
      "100/100 [==============================] - 42s 420ms/step - loss: 0.2134 - acc: 0.9180 - val_loss: 0.6382 - val_acc: 0.7280\n",
      "Epoch 24/30\n",
      "100/100 [==============================] - 42s 418ms/step - loss: 0.1921 - acc: 0.9310 - val_loss: 0.7054 - val_acc: 0.7180\n",
      "Epoch 25/30\n",
      "100/100 [==============================] - 42s 418ms/step - loss: 0.1689 - acc: 0.9425 - val_loss: 0.8143 - val_acc: 0.7040\n",
      "Epoch 26/30\n",
      "100/100 [==============================] - 42s 418ms/step - loss: 0.1613 - acc: 0.9420 - val_loss: 0.7281 - val_acc: 0.7090\n",
      "Epoch 27/30\n",
      "100/100 [==============================] - 42s 419ms/step - loss: 0.1395 - acc: 0.9555 - val_loss: 0.7361 - val_acc: 0.7100\n",
      "Epoch 28/30\n",
      "100/100 [==============================] - 42s 423ms/step - loss: 0.1209 - acc: 0.9625 - val_loss: 0.7619 - val_acc: 0.7100\n",
      "Epoch 29/30\n",
      "100/100 [==============================] - 42s 420ms/step - loss: 0.1023 - acc: 0.9680 - val_loss: 0.9117 - val_acc: 0.7010\n",
      "Epoch 30/30\n",
      "100/100 [==============================] - 42s 421ms/step - loss: 0.0976 - acc: 0.9690 - val_loss: 0.8410 - val_acc: 0.7240\n"
     ]
    }
   ],
   "source": [
    "history = model.fit_generator(train_generator,steps_per_epoch=100,epochs=30,validation_data=validation_generator,validation_steps=50)"
   ]
  },
  {
   "cell_type": "code",
   "execution_count": null,
   "id": "c7a87100",
   "metadata": {},
   "outputs": [],
   "source": []
  }
 ],
 "metadata": {
  "kernelspec": {
   "display_name": "Python 3 (ipykernel)",
   "language": "python",
   "name": "python3"
  },
  "language_info": {
   "codemirror_mode": {
    "name": "ipython",
    "version": 3
   },
   "file_extension": ".py",
   "mimetype": "text/x-python",
   "name": "python",
   "nbconvert_exporter": "python",
   "pygments_lexer": "ipython3",
   "version": "3.10.9"
  }
 },
 "nbformat": 4,
 "nbformat_minor": 5
}
